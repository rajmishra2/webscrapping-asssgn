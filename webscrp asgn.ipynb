{
 "cells": [
  {
   "cell_type": "markdown",
   "id": "66a06787-9e1b-4b15-ada8-cc0999161b5f",
   "metadata": {},
   "source": [
    "Q1. What is Web Scraping? Why is it Used? Give three areas where Web Scraping is used to get data.\n",
    "\n",
    "Web scraping is the process of using bots to extract content and data from a website.Web scraping is used for a variety of business purposes, including: Data collection — collect data from multiple websites for market research and competitor analysis.\n",
    "\n",
    "Monitoring e-commerce prices. Finding opportunities for investment. Analyzing social media web data. Applying machine learning techniques.\n"
   ]
  },
  {
   "cell_type": "markdown",
   "id": "ae4089f3-5d62-44ce-9294-af7bcd934e84",
   "metadata": {},
   "source": [
    "Q2. What are the different methods used for Web Scraping?\n",
    "\n",
    "there are many ways to perform web scraping to get data from websites. These include using online services, special APIs, or even creating code for web scraping from scratch"
   ]
  },
  {
   "cell_type": "markdown",
   "id": "e0d9c64a-3d20-469d-a878-c3171ea5839f",
   "metadata": {},
   "source": [
    "Q3. What is Beautiful Soup? Why is it used?\n",
    "\n",
    "Beautiful Soup is a Python package for parsing HTML and XML documents.\n",
    "Beautiful Soup provides simple methods for navigating, searching, and modifying a parse tree in HTML, XML files"
   ]
  },
  {
   "cell_type": "markdown",
   "id": "e17c1856-e520-48a0-bd69-57a65cef424e",
   "metadata": {},
   "source": [
    "Q4. Why is flask used in this Web Scraping project?\n",
    "\n",
    "Flask is a lightweight framework to build websites. We'll use this to parse our collected data and display it as HTML in a new HTML file. The requests module allows us to send http requests to the website we want to scrape"
   ]
  },
  {
   "cell_type": "markdown",
   "id": "013984ec-661c-4156-9877-69cc41fd160a",
   "metadata": {},
   "source": [
    "Q5. Write the names of AWS services used in this project. Also, explain the use of each service.\n",
    "\n",
    "AWS code pipeline=AWS CodePipeline is a continuous delivery service you can use to model, visualize, and automate the steps required to release your software.\n",
    "AWS Elastic Beanstalk=Upload your code and Elastic Beanstalk automatically handles the deployment—from capacity provisioning, load balancing, and auto scaling to application health monitoring.\n"
   ]
  }
 ],
 "metadata": {
  "kernelspec": {
   "display_name": "Python 3 (ipykernel)",
   "language": "python",
   "name": "python3"
  },
  "language_info": {
   "codemirror_mode": {
    "name": "ipython",
    "version": 3
   },
   "file_extension": ".py",
   "mimetype": "text/x-python",
   "name": "python",
   "nbconvert_exporter": "python",
   "pygments_lexer": "ipython3",
   "version": "3.10.8"
  }
 },
 "nbformat": 4,
 "nbformat_minor": 5
}
